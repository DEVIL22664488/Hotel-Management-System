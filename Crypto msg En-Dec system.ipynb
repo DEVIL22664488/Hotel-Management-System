{
  "nbformat": 4,
  "nbformat_minor": 0,
  "metadata": {
    "colab": {
      "provenance": [],
      "authorship_tag": "ABX9TyNIiLVbdjhvIaFGa306PLVu",
      "include_colab_link": true
    },
    "kernelspec": {
      "name": "python3",
      "display_name": "Python 3"
    },
    "language_info": {
      "name": "python"
    }
  },
  "cells": [
    {
      "cell_type": "markdown",
      "metadata": {
        "id": "view-in-github",
        "colab_type": "text"
      },
      "source": [
        "<a href=\"https://colab.research.google.com/github/DEVIL22664488/Hotel-Management-System/blob/main/Crypto%20msg%20En-Dec%20system.ipynb\" target=\"_parent\"><img src=\"https://colab.research.google.com/assets/colab-badge.svg\" alt=\"Open In Colab\"/></a>"
      ]
    },
    {
      "cell_type": "markdown",
      "source": [
        "**Cryptography Fernet symmatric Encrtyption-Decryption Method**"
      ],
      "metadata": {
        "id": "GfdhlHRjtUfU"
      }
    },
    {
      "cell_type": "markdown",
      "source": [
        "\n",
        "\n",
        "1.   Install cryptography, pycryptodome library\n",
        "2.   import functions\n",
        "3.   Generate base64 encoded secret key( Key must be kept safe to encode and \n",
        "     decode message.\n",
        "4.   Generate 32 encoded secret key(optional)\n",
        "5.   initialize the generated Base64 encoded secret key\n",
        "6.   Enter the message that you want to encode and get encoded message as output\n",
        "7.   Enter the message that you want to decode.\n",
        "8.   Print the converted encoded message into decoded format.\n",
        "\n"
      ],
      "metadata": {
        "id": "DKwz6Ds-ul35"
      }
    },
    {
      "cell_type": "code",
      "source": [
        "!pip install cryptography"
      ],
      "metadata": {
        "colab": {
          "base_uri": "https://localhost:8080/"
        },
        "id": "poZ4FIFoOnhN",
        "outputId": "39c45d0e-9fff-482c-b834-1e8042244cde"
      },
      "execution_count": null,
      "outputs": [
        {
          "output_type": "stream",
          "name": "stdout",
          "text": [
            "Looking in indexes: https://pypi.org/simple, https://us-python.pkg.dev/colab-wheels/public/simple/\n",
            "Collecting cryptography\n",
            "  Downloading cryptography-39.0.0-cp36-abi3-manylinux_2_28_x86_64.whl (4.2 MB)\n",
            "\u001b[2K     \u001b[90m━━━━━━━━━━━━━━━━━━━━━━━━━━━━━━━━━━━━━━━━\u001b[0m \u001b[32m4.2/4.2 MB\u001b[0m \u001b[31m28.0 MB/s\u001b[0m eta \u001b[36m0:00:00\u001b[0m\n",
            "\u001b[?25hRequirement already satisfied: cffi>=1.12 in /usr/local/lib/python3.8/dist-packages (from cryptography) (1.15.1)\n",
            "Requirement already satisfied: pycparser in /usr/local/lib/python3.8/dist-packages (from cffi>=1.12->cryptography) (2.21)\n",
            "Installing collected packages: cryptography\n",
            "Successfully installed cryptography-39.0.0\n"
          ]
        }
      ]
    },
    {
      "cell_type": "code",
      "source": [
        "!pip install pycryptodome"
      ],
      "metadata": {
        "colab": {
          "base_uri": "https://localhost:8080/"
        },
        "id": "XtcDN2rBVkjE",
        "outputId": "0bb76e85-65f3-4029-f531-117abfbd21fd"
      },
      "execution_count": null,
      "outputs": [
        {
          "output_type": "stream",
          "name": "stdout",
          "text": [
            "Looking in indexes: https://pypi.org/simple, https://us-python.pkg.dev/colab-wheels/public/simple/\n",
            "Requirement already satisfied: pycryptodome in /usr/local/lib/python3.8/dist-packages (3.16.0)\n"
          ]
        }
      ]
    },
    {
      "cell_type": "code",
      "source": [
        "from cryptography.fernet import Fernet"
      ],
      "metadata": {
        "id": "YB16iRUvN6um"
      },
      "execution_count": null,
      "outputs": []
    },
    {
      "cell_type": "code",
      "source": [
        "#Need this to generate 64enoded secret code(SECRET KEY on 64encode generation cell)\n",
        "from Crypto.Random import get_random_bytes\n",
        "from base64 import b64encode\n",
        "key = b64encode(get_random_bytes(32)).decode()\n",
        "print(key)"
      ],
      "metadata": {
        "colab": {
          "base_uri": "https://localhost:8080/"
        },
        "id": "WDiH4oDYWDj2",
        "outputId": "1deb8ced-ec8f-4301-e460-d148791c4491"
      },
      "execution_count": null,
      "outputs": [
        {
          "output_type": "stream",
          "name": "stdout",
          "text": [
            "0Halxpj46lyqxtsi5/ugzc1Q2NG7R6RIQGcoMdd6VPM=\n"
          ]
        }
      ]
    },
    {
      "cell_type": "code",
      "source": [
        "#use this cell to generate 32 bit encoded secret key\n",
        "from Crypto.Random import get_random_bytes\n",
        "key = get_random_bytes(32)\n",
        "print(key)"
      ],
      "metadata": {
        "colab": {
          "base_uri": "https://localhost:8080/"
        },
        "id": "U6ryhEh1Vbyi",
        "outputId": "daa4d69e-2801-48cd-f2a5-cced6dc4f7c5"
      },
      "execution_count": null,
      "outputs": [
        {
          "output_type": "stream",
          "name": "stdout",
          "text": [
            "b'\\xb7\\xf9\\xa0\\xe5\\x7f{zw\\x96\\xa7A|\\r\\x04\\xbbk\\xb5-Q\\x9d:,\\x82\\xe5@\\x83\\xfd\\x97Ug\\xce\\xc5'\n"
          ]
        }
      ]
    },
    {
      "cell_type": "code",
      "source": [
        "#initialize the generated Base64 encoded secret key\n",
        "from cryptography.fernet import Fernet\n",
        "key = b'0Halxpj46lyqxtsi5/ugzc1Q2NG7R6RIQGcoMdd6VPM='\n",
        "fernet = Fernet(key)"
      ],
      "metadata": {
        "id": "5nnENYdpen8N"
      },
      "execution_count": null,
      "outputs": []
    },
    {
      "cell_type": "code",
      "source": [
        "#Enter the message that you want to Encode\n",
        "print(\"Hello, Amit\")\n",
        "print(\"Write Your message to encode:\")\n",
        "message= input()\n",
        "\n",
        "fernet = Fernet(key)\n",
        "\n",
        "enc_msg=fernet.encrypt(message.encode())\n",
        "\n",
        "print(\"Encoded message:\", enc_msg)"
      ],
      "metadata": {
        "colab": {
          "base_uri": "https://localhost:8080/"
        },
        "id": "Zq8niWnIOw92",
        "outputId": "c3bc3c77-c603-466d-c44f-f42e58df7647"
      },
      "execution_count": null,
      "outputs": [
        {
          "output_type": "stream",
          "name": "stdout",
          "text": [
            "Hello, Amit\n",
            "Write Your message to encode:\n",
            "I have 1 lakh\n",
            "Encoded message: b'gAAAAABj0Pju4yQ7Kw8vjkHsjbjPMULKlPzai5tVDiZdEReo68OWCEBW9wbKysXnGRCasPLctNRNnZD9aV27IH_7Scw021AmGw=='\n"
          ]
        }
      ]
    },
    {
      "cell_type": "code",
      "source": [
        "#Enter the encoded message that you want to decode\n",
        "enc_msg = input(\"Enter the encoded message: \")"
      ],
      "metadata": {
        "colab": {
          "base_uri": "https://localhost:8080/"
        },
        "id": "-qxd0-yiP8Rx",
        "outputId": "0864f38f-7915-4978-ec6f-611fd3354270"
      },
      "execution_count": null,
      "outputs": [
        {
          "name": "stdout",
          "output_type": "stream",
          "text": [
            "Enter the encoded message: gAAAAABjzs_-oABTGgFWmAHyjmFWuElQbZNsYPjrsrnZgbLM2X55EBwK9KwVh7pkngeaoUQ6IutSHMUCo6DgdMll8wHHNK3Dqg==\n"
          ]
        }
      ]
    },
    {
      "cell_type": "code",
      "source": [
        "#Print the decoded message in encoded format\n",
        "# Use the decrypt() method of the Fernet object to decrypt the message\n",
        "dec_msg = fernet.decrypt(enc_msg)\n",
        "\n",
        "# The decrypted message will be in bytes format, so you can convert it to a string using the decode() method\n",
        "print(dec_msg.decode())"
      ],
      "metadata": {
        "colab": {
          "base_uri": "https://localhost:8080/"
        },
        "id": "a_wgIktOdUwx",
        "outputId": "012669e3-acbd-470d-e0a9-25dfa2717c84"
      },
      "execution_count": null,
      "outputs": [
        {
          "output_type": "stream",
          "name": "stdout",
          "text": [
            "Hello Raymodil\n"
          ]
        }
      ]
    },
    {
      "cell_type": "code",
      "source": [
        "#UPDATED CODE SEQUENCE OF CRYPTO MSG\n",
        "from cryptography.fernet import Fernet\n",
        "\n",
        "while True:\n",
        "    # Ask the user to choose whether to encode or decode\n",
        "    print(\"Do you want to (E)ncode or (D)ecode a message?\")\n",
        "    choice = input().upper()\n",
        "\n",
        "    # Ask the user to enter the secret key\n",
        "    print(\"Enter the secret key: \")\n",
        "    key = input()\n",
        "\n",
        "    # Create a Fernet object using the key\n",
        "    fernet = Fernet(key.encode())\n",
        "\n",
        "    if choice == \"E\":\n",
        "        # Get the message from the user\n",
        "        message = input(\"Enter the message to encode: \")\n",
        "\n",
        "        # Use the encrypt() method of the Fernet object to encrypt the message\n",
        "        enc_msg = fernet.encrypt(message.encode())\n",
        "\n",
        "        # Print the encoded message\n",
        "        print(\"Encoded message: \", enc_msg.decode())\n",
        "\n",
        "    elif choice == \"D\":\n",
        "        # Get the encoded message from the user\n",
        "        enc_msg = input(\"Enter the encoded message: \").encode()\n",
        "\n",
        "        # Use the decrypt() method of the Fernet object to decrypt the message\n",
        "        dec_msg = fernet.decrypt(enc_msg)\n",
        "\n",
        "        # Print the decoded message\n",
        "        print(\"Decoded message: \", dec_msg.decode())\n",
        "\n",
        "    else:\n",
        "        print(\"Invalid choice, please enter E or D.\")\n",
        "\n",
        "    # Ask the user if they want to continue\n",
        "    print(\"Do you want to continue? (Y/N)\")\n",
        "    cont = input().upper()\n",
        "    if cont == \"N\":\n",
        "        break\n"
      ],
      "metadata": {
        "colab": {
          "base_uri": "https://localhost:8080/"
        },
        "id": "L5B_m_YBMBXE",
        "outputId": "b3a9aa22-28e6-4ef4-c5e3-08599eda9f8e"
      },
      "execution_count": null,
      "outputs": [
        {
          "name": "stdout",
          "output_type": "stream",
          "text": [
            "Do you want to (E)ncode or (D)ecode a message?\n",
            "D\n",
            "Enter the secret key: \n",
            "DkQt9iyrP9Elp/FlrU1vB+9NF+iP0e9KS+L0gpy3CzI=\n",
            "Enter the encoded message: gAAAAABj0C06ypHv4XltotNtzW2sWwNPw8mOU21Ni_zRlzY_hsQp0YA8P3T8OHeVq-hw4TUNWzefWkglKkJNxLbs6eKxSWxl1A==\n",
            "Decoded message:  Hello world\n",
            "Do you want to continue? (Y/N)\n",
            "Y\n",
            "Do you want to (E)ncode or (D)ecode a message?\n",
            "E\n",
            "Enter the secret key: \n",
            "DkQt9iyrP9Elp/FlrU1vB+9NF+iP0e9KS+L0gpy3CzI=\n",
            "Enter the message to encode: This is not the thing u r searching\n",
            "Encoded message:  gAAAAABj0C5YLSdpq10IYiN7oMGLv8LZpMfXGvsaLr5Ur73Kt-GnuPKg0zRp-QKin3yTU6ceNjWqBVnoQlKNy4gKFyEUFjHhy3BWTa7kwewIjrzcHqEQ8nH9RdXALqMBNpLOzoG-IK47\n",
            "Do you want to continue? (Y/N)\n",
            "Y\n",
            "Do you want to (E)ncode or (D)ecode a message?\n",
            "D\n",
            "Enter the secret key: \n",
            "DkQt9iyrP9Elp/FlrU1vB+9NF+iP0e9KS+L0gpy3CzI=\n",
            "Enter the encoded message: gAAAAABj0C5YLSdpq10IYiN7oMGLv8LZpMfXGvsaLr5Ur73Kt-GnuPKg0zRp-QKin3yTU6ceNjWqBVnoQlKNy4gKFyEUFjHhy3BWTa7kwewIjrzcHqEQ8nH9RdXALqMBNpLOzoG-IK47\n",
            "Decoded message:  This is not the thing u r searching\n",
            "Do you want to continue? (Y/N)\n",
            "N\n"
          ]
        }
      ]
    },
    {
      "cell_type": "code",
      "source": [
        "key = Fernet.generate_key()\n",
        "fernet_encryption = Fernet(key)\n",
        "fernet_decryption = Fernet(key)"
      ],
      "metadata": {
        "id": "LqAiVWuiUcZm"
      },
      "execution_count": null,
      "outputs": []
    },
    {
      "cell_type": "code",
      "source": [
        "key = b'MzdtMwjUj+RdKvh/wrElnNEsBmOIacs343N0vl3cwTg='\n",
        "fernet_encryption = Fernet(key)\n",
        "fernet_decryption = Fernet(key)\n"
      ],
      "metadata": {
        "id": "Pp7DyiSVUhAi"
      },
      "execution_count": null,
      "outputs": []
    },
    {
      "cell_type": "code",
      "source": [
        "with open(\"secret.key\", \"wb\") as key_file:\n",
        "    key_file.write(key)\n",
        "\n",
        "with open(\"secret.key\", \"rb\") as key_file:\n",
        "    key = key_file.read()\n",
        "    fernet_encryption = Fernet(key)\n",
        "    fernet_decryption = Fernet(key)"
      ],
      "metadata": {
        "id": "vjIFeGR9Wm6V"
      },
      "execution_count": null,
      "outputs": []
    },
    {
      "cell_type": "code",
      "source": [
        "encryption_key = Fernet.generate_key()\n",
        "decryption_key = Fernet.generate_key()\n",
        "print(encryption_key == decryption_key)"
      ],
      "metadata": {
        "id": "NbUtqoGYT5qP"
      },
      "execution_count": null,
      "outputs": []
    },
    {
      "cell_type": "code",
      "source": [
        "enc_msg = b'gAAAAABjzWg4XtZvZejOTY7X67MgrlDW3Cp9-YHCpYwp0ZMhGFxE-8nKr-LQBmwvIrQq1r8M_AYwntl8-08HT4cfibvGhZ-U-A=='\n"
      ],
      "metadata": {
        "id": "vwO_e_tNXrs5"
      },
      "execution_count": null,
      "outputs": []
    },
    {
      "cell_type": "code",
      "source": [
        "from cryptography.fernet import Fernet\n",
        "\n",
        "key = b'Tb3F2WjNWY83y4/Uro3j+rUCz1Zq8naCGGECI1S2/p8='\n",
        "fernet = Fernet(key)\n"
      ],
      "metadata": {
        "id": "bo8gPIxEYILd"
      },
      "execution_count": null,
      "outputs": []
    },
    {
      "cell_type": "code",
      "source": [
        "from cryptography.fernet import Fernet\n",
        "\n",
        "# Create a Fernet object using the key\n",
        "fernet = Fernet(key)\n",
        "\n",
        "# Get the message from the user\n",
        "message = input(\"Enter the message to encrypt: \")\n",
        "\n",
        "# Use the encrypt() method of the Fernet object to encrypt the message\n",
        "enc_msg = fernet.encrypt(message.encode())\n",
        "\n",
        "# The encrypted message will be in bytes format, so you can convert it to a string using the decode() method\n",
        "print(enc_msg.decode())\n"
      ],
      "metadata": {
        "colab": {
          "base_uri": "https://localhost:8080/"
        },
        "id": "Nl86KCYbYTPc",
        "outputId": "0aa08636-2577-4b42-cc89-3727a923b50d"
      },
      "execution_count": null,
      "outputs": [
        {
          "output_type": "stream",
          "name": "stdout",
          "text": [
            "Enter the message to encrypt: hello world\n",
            "gAAAAABjzW9sghbHSyJXVklAW4z74hPS19LvAc3aeD7p166qvOzo3IdGWAHC-VYUFBHuBb3VakzDLv-Kyaekrgn54fWeJKJhgA==\n"
          ]
        }
      ]
    },
    {
      "cell_type": "code",
      "source": [
        "enc_msg = input(\"Enter the encoded message: \").encode()"
      ],
      "metadata": {
        "colab": {
          "base_uri": "https://localhost:8080/"
        },
        "id": "F3W-wy5qa-Vm",
        "outputId": "5d2a531b-2f48-4412-bb48-b31c9b4348f4"
      },
      "execution_count": null,
      "outputs": [
        {
          "name": "stdout",
          "output_type": "stream",
          "text": [
            "Enter the encoded message: gAAAAABjzW9sghbHSyJXVklAW4z74hPS19LvAc3aeD7p166qvOzo3IdGWAHC-VYUFBHuBb3VakzDLv-Kyaekrgn54fWeJKJhgA==\n"
          ]
        }
      ]
    },
    {
      "cell_type": "code",
      "source": [
        "# Use the decrypt() method of the Fernet object to decrypt the message\n",
        "dec_msg = fernet.decrypt(enc_msg)\n",
        "\n",
        "# The decrypted message will be in bytes format, so you can convert it to a string using the decode() method\n",
        "print(dec_msg.decode())"
      ],
      "metadata": {
        "colab": {
          "base_uri": "https://localhost:8080/"
        },
        "id": "sup1yt_xacAj",
        "outputId": "a7434c1d-3024-479c-f0ee-2143b9fa77a4"
      },
      "execution_count": null,
      "outputs": [
        {
          "output_type": "stream",
          "name": "stdout",
          "text": [
            "hello world\n"
          ]
        }
      ]
    },
    {
      "cell_type": "code",
      "source": [],
      "metadata": {
        "id": "ZXIYsJblNKi3"
      },
      "execution_count": null,
      "outputs": []
    }
  ]
}